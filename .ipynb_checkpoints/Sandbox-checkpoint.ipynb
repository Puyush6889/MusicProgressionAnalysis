{
 "cells": [
  {
   "cell_type": "code",
   "execution_count": 51,
   "metadata": {
    "collapsed": true
   },
   "outputs": [],
   "source": [
    "import bs4\n",
    "import requests"
   ]
  },
  {
   "cell_type": "code",
   "execution_count": 151,
   "metadata": {
    "collapsed": false
   },
   "outputs": [],
   "source": [
    "weekend = requests.get('https://www.ultimate-guitar.com/search.php?search_type=title&order=&value=I+feel+it+coming')\n",
    "weekend_soup = bs4.BeautifulSoup(weekend.content, 'html.parser')"
   ]
  },
  {
   "cell_type": "code",
   "execution_count": 336,
   "metadata": {
    "collapsed": false
   },
   "outputs": [],
   "source": [
    "def soup_page(web_url):\n",
    "    req = requests.get(web_url)\n",
    "    req_soup = bs4.BeautifulSoup(req.content, 'html.parser')\n",
    "    return req_soup\n",
    "\n",
    "# This function scrapes chords from a ultimate guitar website and\n",
    "# returns a list of all the chords on that page\n",
    "def get_chords(web_url):\n",
    "    req_soup = soup_page(web_url)\n",
    "    content = req_soup.find_all('pre', {'class':'js-tab-content'})\n",
    "    chords_list = [word.replace('<span>', '').replace('</span>', '') for word in str(content).split() if word[0:6] == '<span>']\n",
    "    return chords_list\n",
    "\n",
    "def get_rating(row):\n",
    "    temp_rate = row.find('td', {'class':'gray4 tresults--rating'})\n",
    "    rate_list = temp_rate.find_all('b', {'class':'ratdig'})\n",
    "    if (len(rate_list) > 0):\n",
    "        rate = rate_list[0].text.strip()\n",
    "        return float(rate)\n",
    "\n",
    "def get_type(row):\n",
    "    row_type = row.find_all('strong')[0].text.strip()\n",
    "    return row_type\n",
    "\n",
    "# -- Puyush's functions --\n",
    "def get_url(row):\n",
    "    search_version = row.find_all('td',{'class':'search-version--td'})[0]\n",
    "    href = search_version.find_all('a')[0].attrs['href']\n",
    "    return href\n",
    "\n",
    "def get_bbd_year_url(year_input):\n",
    "    url = 'http://www.billboard.com/charts/year-end/'\n",
    "    url += str(year_input)\n",
    "    url += '/hot-100-songs'\n",
    "    return url\n",
    "\n",
    "def update_url(int_year):\n",
    "    billboard = requests.get(get_bbd_year_url(int_year))\n",
    "    billboard_soup = bs4.BeautifulSoup(billboard.content, 'html.parser')\n",
    "    innerContent =  billboard_soup.find_all('div', {'data-content-type': 'yearEndChart'})\n",
    "    artistData = innerContent[0].find_all('div' , {'class': 'ye-chart__layout-row'})\n",
    "    artistData = artistData[1:]\n",
    "    return artistData\n",
    "\n",
    "def data(row):\n",
    "    p = list()\n",
    "    article = row.find_all('article', {'id': 'chart'})\n",
    "    for i in range(len(article)):\n",
    "        article_chart = article[i].find_all('div', {'class': 'ye-chart__item-primary'})\n",
    "        songTitle = article_chart[0].find_all('h1', {'class':'ye-chart__item-title'})[0].text.strip()\n",
    "        artistName = article_chart[0].find_all('h2', {'class':'ye-chart__item-subtitle'})[0].text.strip()\n",
    "        p.append((artistName, songTitle))\n",
    "    return p\n",
    "\n",
    "def get_top100(int_year):\n",
    "    pairs = list()\n",
    "    top100Songs = list()\n",
    "    pairs = [data(d) for d in update_url(int_year)]\n",
    "    for p in pairs:\n",
    "        top100Songs += p\n",
    "    return top100Songs"
   ]
  },
  {
   "cell_type": "code",
   "execution_count": 331,
   "metadata": {
    "collapsed": false
   },
   "outputs": [],
   "source": [
    "hello = 'https://www.ultimate-guitar.com/search.php?search_type=title&order=&value=hello+adele'\n",
    "feel_coming = 'https://www.ultimate-guitar.com/search.php?search_type=title&order=&value=i+feel+it+coming'\n",
    "sorry = 'https://www.ultimate-guitar.com/search.php?search_type=title&order=&value=sorry+justin+bieber'\n",
    "search_soup = soup_page(sorry)\n",
    "table = search_soup.find_all('table',{'class':'tresults'})[0]"
   ]
  },
  {
   "cell_type": "code",
   "execution_count": 332,
   "metadata": {
    "collapsed": false
   },
   "outputs": [],
   "source": [
    "rows = table.find_all('tr')[1:len(table)]"
   ]
  },
  {
   "cell_type": "code",
   "execution_count": 334,
   "metadata": {
    "collapsed": false
   },
   "outputs": [
    {
     "name": "stdout",
     "output_type": "stream",
     "text": [
      "733.0 \t https://tabs.ultimate-guitar.com/j/justin_bieber/sorry_crd.htm\n",
      "27.0 \t https://tabs.ultimate-guitar.com/j/justin_bieber/sorry_ver2_crd.htm\n",
      "9.0 \t https://tabs.ultimate-guitar.com/j/justin_bieber/sorry_ver3_crd.htm\n"
     ]
    }
   ],
   "source": [
    "for row in rows:\n",
    "    if get_type(row) == 'chords':\n",
    "        if (get_rating(row) != None):\n",
    "            print(get_rating(row),\"\\t\", get_url(row))\n"
   ]
  },
  {
   "cell_type": "code",
   "execution_count": 343,
   "metadata": {
    "collapsed": false,
    "scrolled": true
   },
   "outputs": [
    {
     "data": {
      "text/plain": [
       "[('Ke$ha', 'TIK TOK'),\n",
       " ('Lady Antebellum', 'NEED YOU NOW'),\n",
       " ('Train', 'HEY, SOUL SISTER'),\n",
       " ('Katy Perry Featuring Snoop Dogg', 'CALIFORNIA GURLS'),\n",
       " ('Usher Featuring will.i.am', 'OMG'),\n",
       " ('B.o.B Featuring Hayley Williams', 'AIRPLANES'),\n",
       " ('Eminem Featuring Rihanna', 'LOVE THE WAY YOU LIE'),\n",
       " ('Lady Gaga', 'BAD ROMANCE'),\n",
       " ('Taio Cruz', 'DYNAMITE'),\n",
       " ('Taio Cruz Featuring Ludacris', 'BREAK YOUR HEART'),\n",
       " ('B.o.B Featuring Bruno Mars', \"NOTHIN' ON YOU\"),\n",
       " ('Enrique Iglesias Featuring Pitbull', 'I LIKE IT'),\n",
       " ('Young Money Featuring Lloyd', 'BEDROCK'),\n",
       " ('Jason Derulo', 'IN MY HEAD'),\n",
       " ('Rihanna', 'RUDE BOY'),\n",
       " ('Lady Gaga Featuring Beyonce', 'TELEPHONE'),\n",
       " ('Katy Perry', 'TEENAGE DREAM'),\n",
       " ('Bruno Mars', 'JUST THE WAY YOU ARE'),\n",
       " ('Mike Posner', 'COOLER THAN ME'),\n",
       " ('The Black Eyed Peas', 'IMMA BE'),\n",
       " ('Jay-Z + Alicia Keys', 'EMPIRE STATE OF MIND'),\n",
       " ('Usher Featuring Pitbull', \"DJ GOT US FALLIN' IN LOVE\"),\n",
       " ('Travie McCoy Featuring Bruno Mars', 'BILLIONAIRE'),\n",
       " ('Eminem', 'NOT AFRAID'),\n",
       " ('Iyaz', 'REPLAY'),\n",
       " ('David Guetta Featuring Akon', 'SEXY CHICK'),\n",
       " ('The Script', 'BREAKEVEN'),\n",
       " ('Ke$ha', 'YOUR LOVE IS MY DRUG'),\n",
       " ('The Black Eyed Peas', 'I GOTTA FEELING'),\n",
       " ('Owl City', 'FIREFLIES'),\n",
       " ('Trey Songz Featuring Fabolous', 'SAY AAH'),\n",
       " ('Drake', 'FIND YOUR LOVE'),\n",
       " ('Lady Gaga', 'ALEJANDRO'),\n",
       " ('Jason Derulo', \"RIDIN' SOLO\"),\n",
       " ('Nelly', 'JUST A DREAM'),\n",
       " ('Ludacris', 'HOW LOW'),\n",
       " ('Far*East Movement Featuring Cataracs & Dev', 'LIKE A G6'),\n",
       " ('Timbaland Featuring Justin Timberlake', 'CARRY OUT'),\n",
       " ('Michael Buble', \"HAVEN'T MET YOU YET\"),\n",
       " ('Flo Rida Featuring David Guetta', \"CLUB CAN'T HANDLE ME\"),\n",
       " ('Jay Sean Featuring Lil Wayne', 'DOWN'),\n",
       " ('La Roux', 'BULLETPROOF'),\n",
       " ('Jason Derulo', 'WHATCHA SAY'),\n",
       " ('Justin Bieber Featuring Ludacris', 'BABY'),\n",
       " ('Adam Lambert', 'WHATAYA WANT FROM ME'),\n",
       " ('Taylor Swift', 'MINE'),\n",
       " ('Rihanna', 'ONLY GIRL (IN THE WORLD)'),\n",
       " ('Kris Allen', \"LIVE LIKE WE'RE DYING\"),\n",
       " ('Rihanna Featuring Jeezy', 'HARD'),\n",
       " ('Jay-Z + Mr. Hudson', 'YOUNG FOREVER'),\n",
       " ('Ke$ha Featuring 3OH!3', 'BLAH BLAH BLAH'),\n",
       " ('Trey Songz Featuring Nicki Minaj', 'BOTTOMS UP'),\n",
       " ('Jay Sean Featuring Sean Paul & Lil Jon', 'DO YOU REMEMBER'),\n",
       " ('OneRepublic', 'ALL THE RIGHT MOVES'),\n",
       " ('Orianthi', 'ACCORDING TO YOU'),\n",
       " ('Ludacris Featuring Nicki Minaj', 'MY CHICK BAD'),\n",
       " ('Taylor Swift', 'YOU BELONG WITH ME'),\n",
       " ('The Black Eyed Peas', 'MEET ME HALFWAY'),\n",
       " ('Ke$ha', 'TAKE IT OFF'),\n",
       " ('Drake', 'OVER'),\n",
       " ('Neon Trees', 'ANIMAL'),\n",
       " ('Maroon 5', 'MISERY'),\n",
       " ('B.o.B Featuring Rivers Cuomo', 'MAGIC'),\n",
       " ('Lady Gaga', 'PAPARAZZI'),\n",
       " ('New Boyz Featuring Ray J', 'TIE ME DOWN'),\n",
       " ('Nicki Minaj', 'YOUR LOVE'),\n",
       " ('Miley Cyrus', 'PARTY IN THE U.S.A.'),\n",
       " ('Chris Brown Featuring Tyga & Kevin McCall', 'DEUCES'),\n",
       " ('Britney Spears', '3'),\n",
       " ('Shontelle', 'IMPOSSIBLE'),\n",
       " ('Drake Featuring Kanye West, Lil Wayne & Eminem', 'FOREVER'),\n",
       " ('Boys Like Girls Featuring Taylor Swift', 'TWO IS BETTER THAN ONE'),\n",
       " ('3OH!3 Featuring Ke$ha', 'MY FIRST KISS'),\n",
       " ('Kelly Clarkson', 'ALREADY GONE'),\n",
       " ('The Black Eyed Peas', 'ROCK THAT BODY'),\n",
       " ('OneRepublic', 'SECRETS'),\n",
       " ('Selena Gomez & The Scene', 'NATURALLY'),\n",
       " ('Alicia Keys', \"UN-THINKABLE (I'M READY)\"),\n",
       " ('DJ Khaled Featuring T-Pain, Ludacris, Snoop Dogg & Rick Ross',\n",
       "  'ALL I DO IS WIN'),\n",
       " ('Kevin Rudolf Featuring Birdman, Jay Sean, & Lil Wayne',\n",
       "  'I MADE IT (CASH MONEY HEROES)'),\n",
       " ('Sugarland', 'STUCK LIKE GLUE'),\n",
       " ('Usher Featuring Plies', \"HEY DADDY (DADDY'S HOME)\"),\n",
       " ('Usher', 'THERE GOES MY BABY'),\n",
       " ('Taylor Swift', 'TODAY WAS A FAIRYTALE'),\n",
       " ('Timbaland Featuring Drake', 'SAY SOMETHING'),\n",
       " ('Beyonce', 'SWEET DREAMS'),\n",
       " ('Kings Of Leon', 'USE SOMEBODY'),\n",
       " ('Carrie Underwood', 'UNDO IT'),\n",
       " ('Sean Kingston & Justin Bieber', 'EENIE MEENIE'),\n",
       " ('Lil Wayne Featuring Drake', 'RIGHT ABOVE IT'),\n",
       " ('Miranda Lambert', 'THE HOUSE THAT BUILT ME'),\n",
       " ('The Band Perry', 'IF I DIE YOUNG'),\n",
       " ('Paramore', 'THE ONLY EXCEPTION'),\n",
       " ('Lady Antebellum', 'AMERICAN HONEY'),\n",
       " ('Sara Bareilles', 'KING OF ANYTHING'),\n",
       " ('Daughtry', 'LIFE AFTER YOU'),\n",
       " ('Uncle Kracker', 'SMILE'),\n",
       " ('Cali Swag District', 'TEACH ME HOW TO DOUGIE'),\n",
       " ('Alicia Keys', 'TRY SLEEPING WITH A BROKEN HEART'),\n",
       " ('Jerrod Niemann', 'LOVER, LOVER')]"
      ]
     },
     "execution_count": 343,
     "metadata": {},
     "output_type": "execute_result"
    }
   ],
   "source": [
    "get_top100(2010)"
   ]
  },
  {
   "cell_type": "code",
   "execution_count": null,
   "metadata": {
    "collapsed": true
   },
   "outputs": [],
   "source": []
  }
 ],
 "metadata": {
  "anaconda-cloud": {},
  "kernelspec": {
   "display_name": "Python [conda root]",
   "language": "python",
   "name": "conda-root-py"
  },
  "language_info": {
   "codemirror_mode": {
    "name": "ipython",
    "version": 3
   },
   "file_extension": ".py",
   "mimetype": "text/x-python",
   "name": "python",
   "nbconvert_exporter": "python",
   "pygments_lexer": "ipython3",
   "version": "3.5.2"
  }
 },
 "nbformat": 4,
 "nbformat_minor": 1
}
