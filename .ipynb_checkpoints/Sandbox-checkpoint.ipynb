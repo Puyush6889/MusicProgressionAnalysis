{
 "cells": [
  {
   "cell_type": "code",
   "execution_count": 11,
   "metadata": {
    "collapsed": true
   },
   "outputs": [],
   "source": [
    "import bs4\n",
    "import requests"
   ]
  },
  {
   "cell_type": "code",
   "execution_count": 16,
   "metadata": {
    "collapsed": false
   },
   "outputs": [],
   "source": [
    "weekend = requests.get('https://www.ultimate-guitar.com/search.php?search_type=title&order=&value=I+feel+it+coming')\n",
    "weekend_soup = bs4.BeautifulSoup(weekend.content, 'html.parser')"
   ]
  },
  {
   "cell_type": "code",
   "execution_count": 17,
   "metadata": {
    "collapsed": false
   },
   "outputs": [],
   "source": [
    "feel_it_coming = requests.get('https://tabs.ultimate-guitar.com/t/the_weeknd/i_feel_it_coming_ver2_crd.htm')\n",
    "coming_soup = bs4.BeautifulSoup(feel_it_coming.content, 'html.parser')"
   ]
  },
  {
   "cell_type": "code",
   "execution_count": 48,
   "metadata": {
    "collapsed": false
   },
   "outputs": [
    {
     "data": {
      "text/plain": [
       "['<span>Em</span>',\n",
       " '<span>Am</span>',\n",
       " '<span>F</span>',\n",
       " '<span>C</span>',\n",
       " '<span>Em</span>',\n",
       " '<span>Am</span>',\n",
       " '<span>F</span>',\n",
       " '<span>C</span>',\n",
       " '<span>Am7</span>',\n",
       " '<span>Em7</span>',\n",
       " '<span>F</span>',\n",
       " '<span>C</span>',\n",
       " '<span>Am7</span>',\n",
       " '<span>Em7</span>',\n",
       " '<span>F</span>',\n",
       " '<span>C</span>',\n",
       " '<span>Em7</span>',\n",
       " '<span>Am7</span>',\n",
       " '<span>F</span>',\n",
       " '<span>C</span>',\n",
       " '<span>Em7</span>',\n",
       " '<span>Am7</span>',\n",
       " '<span>F</span>',\n",
       " '<span>C</span>',\n",
       " '<span>Em</span>',\n",
       " '<span>Am</span>',\n",
       " '<span>F</span>',\n",
       " '<span>C</span>',\n",
       " '<span>Em</span>',\n",
       " '<span>Am</span>',\n",
       " '<span>F</span>',\n",
       " '<span>C</span>',\n",
       " '<span>Am7</span>',\n",
       " '<span>Em7</span>',\n",
       " '<span>F</span>',\n",
       " '<span>C</span>',\n",
       " '<span>Am7</span>',\n",
       " '<span>Em7</span>',\n",
       " '<span>F</span>',\n",
       " '<span>C</span>',\n",
       " '<span>Em7</span>',\n",
       " '<span>Am</span>',\n",
       " '<span>F</span>',\n",
       " '<span>C</span>',\n",
       " '<span>Em7</span>',\n",
       " '<span>Am</span>',\n",
       " '<span>F</span>',\n",
       " '<span>C</span>',\n",
       " '<span>Em7</span>',\n",
       " '<span>Am</span>',\n",
       " '<span>F</span>',\n",
       " '<span>C</span>',\n",
       " '<span>Em7</span>',\n",
       " '<span>Am</span>',\n",
       " '<span>F</span>',\n",
       " '<span>C</span>',\n",
       " '<span>Am7</span>',\n",
       " '<span>Em7</span>',\n",
       " '<span>F</span>',\n",
       " '<span>C</span>',\n",
       " '<span>Am7</span>',\n",
       " '<span>Em7</span>',\n",
       " '<span>F</span>',\n",
       " '<span>C</span>',\n",
       " '<span>Em7</span>',\n",
       " '<span>Am7</span>',\n",
       " '<span>F</span>',\n",
       " '<span>C</span>',\n",
       " '<span>Em7</span>',\n",
       " '<span>Am7</span>',\n",
       " '<span>F</span>',\n",
       " '<span>C</span>',\n",
       " '<span>Em7</span>',\n",
       " '<span>Am</span>',\n",
       " '<span>F</span>',\n",
       " '<span>C</span>',\n",
       " '<span>Em7</span>',\n",
       " '<span>Am</span>',\n",
       " '<span>F</span>',\n",
       " '<span>C</span>']"
      ]
     },
     "execution_count": 48,
     "metadata": {},
     "output_type": "execute_result"
    }
   ],
   "source": [
    "cont = coming_soup.find_all('pre', {'class':'js-tab-content'})\n",
    "k = str(cont)\n",
    "[word for word in str(cont).split() if word[0:6] == '<span>']"
   ]
  },
  {
   "cell_type": "code",
   "execution_count": null,
   "metadata": {
    "collapsed": true
   },
   "outputs": [],
   "source": []
  }
 ],
 "metadata": {
  "anaconda-cloud": {},
  "kernelspec": {
   "display_name": "Python [conda root]",
   "language": "python",
   "name": "conda-root-py"
  },
  "language_info": {
   "codemirror_mode": {
    "name": "ipython",
    "version": 3
   },
   "file_extension": ".py",
   "mimetype": "text/x-python",
   "name": "python",
   "nbconvert_exporter": "python",
   "pygments_lexer": "ipython3",
   "version": "3.5.2"
  }
 },
 "nbformat": 4,
 "nbformat_minor": 1
}
