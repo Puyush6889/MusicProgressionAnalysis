{
 "cells": [
  {
   "cell_type": "code",
   "execution_count": 51,
   "metadata": {
    "collapsed": true
   },
   "outputs": [],
   "source": [
    "import bs4\n",
    "import requests"
   ]
  },
  {
   "cell_type": "code",
   "execution_count": 63,
   "metadata": {
    "collapsed": false
   },
   "outputs": [],
   "source": [
    "def soup_page(web_url):\n",
    "    req = requests.get(web_url)\n",
    "    req_soup = bs4.BeautifulSoup(req.content, 'html.parser')\n",
    "    return req_soup\n",
    "\n",
    "# This function scrapes chords from a ultimate guitar website and\n",
    "# returns a list of all the chords on that page\n",
    "def get_chords(web_url):\n",
    "    req_soup = soup_page(web_url)\n",
    "    content = req_soup.find_all('pre', {'class':'js-tab-content'})\n",
    "    chords_list = [word.replace('<span>', '').replace('</span>', '') for word in str(content).split() if word[0:6] == '<span>']\n",
    "    return chords_list\n",
    "\n",
    "def get_rating(row):\n",
    "    temp_rate = row.find('td', {'class':'gray4 tresults--rating'})\n",
    "    rate_list = temp_rate.find_all('b', {'class':'ratdig'})\n",
    "    if (len(rate_list) > 0):\n",
    "        rate = rate_list[0].text.strip()\n",
    "        return float(rate)\n",
    "\n",
    "def get_type(row):\n",
    "    row_type = row.find_all('strong')[0].text.strip()\n",
    "    return row_type\n",
    "\n",
    "def get_url(row):\n",
    "    search_version = row.find_all('td',{'class':'search-version--td'})[0]\n",
    "    href = search_version.find_all('a')[0].attrs['href']\n",
    "    return href\n",
    "\n",
    "def get_year(year_input):\n",
    "    url = 'http://www.billboard.com/charts/year-end/'\n",
    "    url += str(year_input)\n",
    "    url += '/hot-100-songs'\n",
    "    return url"
   ]
  },
  {
   "cell_type": "code",
   "execution_count": null,
   "metadata": {
    "collapsed": true
   },
   "outputs": [],
   "source": []
  }
 ],
 "metadata": {
  "anaconda-cloud": {},
  "kernelspec": {
   "display_name": "Python [conda root]",
   "language": "python",
   "name": "conda-root-py"
  },
  "language_info": {
   "codemirror_mode": {
    "name": "ipython",
    "version": 3
   },
   "file_extension": ".py",
   "mimetype": "text/x-python",
   "name": "python",
   "nbconvert_exporter": "python",
   "pygments_lexer": "ipython3",
   "version": "3.5.2"
  }
 },
 "nbformat": 4,
 "nbformat_minor": 1
}
