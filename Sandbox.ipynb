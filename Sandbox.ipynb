{
 "cells": [
  {
   "cell_type": "code",
   "execution_count": 51,
   "metadata": {
    "collapsed": true
   },
   "outputs": [],
   "source": [
    "import bs4\n",
    "import requests"
   ]
  },
  {
   "cell_type": "code",
   "execution_count": 52,
   "metadata": {
    "collapsed": false
   },
   "outputs": [],
   "source": [
    "weekend = requests.get('https://www.ultimate-guitar.com/search.php?search_type=title&order=&value=I+feel+it+coming')\n",
    "weekend_soup = bs4.BeautifulSoup(weekend.content, 'html.parser')"
   ]
  },
  {
   "cell_type": "code",
   "execution_count": 66,
   "metadata": {
    "collapsed": false
   },
   "outputs": [],
   "source": [
    "def soup_page(web_url):\n",
    "    req = requests.get(web_url)\n",
    "    req_soup = bs4.BeautifulSoup(req.content, 'html.parser')\n",
    "    return req_soup\n",
    "\n",
    "# This function scrapes chords from a ultimate guitar website and\n",
    "# returns a list of all the chords on that page\n",
    "def get_chords(web_url):\n",
    "    req_soup = soup_page(web_url)\n",
    "    content = req_soup.find_all('pre', {'class':'js-tab-content'})\n",
    "    chords_list = [word.replace('<span>', '').replace('</span>', '') for word in str(content).split() if word[0:6] == '<span>']\n",
    "    return chords_list"
   ]
  },
  {
   "cell_type": "code",
   "execution_count": 72,
   "metadata": {
    "collapsed": false
   },
   "outputs": [
    {
     "data": {
      "text/plain": [
       "[<table cellspacing=\"1\" class=\"tresults \">\n",
       " <thead>\n",
       " <tr>\n",
       " <th width=\"175\">Artist :</th>\n",
       " <th width=\"363\">Song :</th>\n",
       " <th width=\"115\">Rating :</th>\n",
       " <th width=\"80\">Type :</th>\n",
       " </tr>\n",
       " </thead>\n",
       " <tr class=\" \">\n",
       " <td id=\"npd77\"><a>THIS APP DOESN'T HAVE RIGHTS TO DISPLAY TABS</a></td>\n",
       " <td><a class=\"song search_art js-search-spelling-artist\" href=\"/tabs/the_weeknd_tabs.htm\" onclick=\"window.trackCorrected('ARTIST')\">The Weeknd</a>\n",
       " </td>\n",
       " <td class=\"search-version--td\">\n",
       " <div class=\"search-version--link js-tooltip\">\n",
       " <a class=\"song result-link js-search-spelling-link\" href=\"https://tabs.ultimate-guitar.com/t/the_weeknd/i_feel_it_coming_crd.htm\" onclick=\"window.trackCorrected('TAB')\">\n",
       " <b>I</b> <b>Feel</b> <b>It</b> <b>Coming</b> </a>\n",
       " <div class=\"tabinfo link-tooltip \">\n",
       "                                         info\n",
       "                                         <div class=\"link-tooltip--text dark js-tooltip-content\">\n",
       "                                             This specific tab is based off the studio recorded version.                                        </div>\n",
       " </div>\n",
       " </div>\n",
       " <div class=\"dn\" id=\"info_1904226\">\n",
       " <font style=\"font-family:trebuchet ms;font-size:12px;font-weight:bold;line-height:120%\"><b><font color=\"#DDDDCC\">+</font> Difficulty:</b> <font color=\"#DDDDCC\">novice</font><br/></font>\n",
       " </div>\n",
       " </td>\n",
       " <td class=\"gray4 tresults--rating\">\n",
       " <span class=\"rating\" title=\"4.5\">\n",
       " <span class=\"icon-rating-sm icon-rating-sm__active\"></span>\n",
       " <span class=\"icon-rating-sm icon-rating-sm__active\"></span>\n",
       " <span class=\"icon-rating-sm icon-rating-sm__active\"></span>\n",
       " <span class=\"icon-rating-sm icon-rating-sm__active\"></span>\n",
       " <span class=\"icon-rating-sm icon-rating-sm__half\"></span>\n",
       " </span>\n",
       " <span>[ <b class=\"ratdig\">18</b> ]</span></td>\n",
       " <td><strong>chords</strong></td>\n",
       " </tr>\n",
       " <tr class=\"stripe \">\n",
       " <td> \n",
       "                             </td>\n",
       " <td class=\"search-version--td\">\n",
       " <div class=\"search-version--link js-tooltip\">\n",
       " <a class=\"song result-link js-search-spelling-link\" href=\"https://tabs.ultimate-guitar.com/t/the_weeknd/i_feel_it_coming_ver2_crd.htm\" onclick=\"window.trackCorrected('TAB')\">\n",
       " <b>I</b> <b>Feel</b> <b>It</b> <b>Coming</b> (ver 2)                                                                            </a>\n",
       " </div>\n",
       " <div class=\"dn\" id=\"info_1904263\">\n",
       " <font style=\"font-family:trebuchet ms;font-size:12px;font-weight:bold;line-height:120%\"><b><font color=\"#DDDDCC\">+</font> Difficulty:</b> <font color=\"#DDDDCC\">novice</font><br/></font>\n",
       " </div>\n",
       " </td>\n",
       " <td class=\"gray4 tresults--rating\">\n",
       " <span class=\"rating\" title=\"5\">\n",
       " <span class=\"icon-rating-sm icon-rating-sm__active\"></span>\n",
       " <span class=\"icon-rating-sm icon-rating-sm__active\"></span>\n",
       " <span class=\"icon-rating-sm icon-rating-sm__active\"></span>\n",
       " <span class=\"icon-rating-sm icon-rating-sm__active\"></span>\n",
       " <span class=\"icon-rating-sm icon-rating-sm__active\"></span>\n",
       " </span>\n",
       " <span>[ <b class=\"ratdig\">138</b> ]</span></td>\n",
       " <td><strong>chords</strong></td>\n",
       " </tr>\n",
       " <tr class=\" \">\n",
       " <td> \n",
       "                             </td>\n",
       " <td class=\"search-version--td\">\n",
       " <div class=\"search-version--link js-tooltip\">\n",
       " <a class=\"song result-link js-search-spelling-link\" href=\"https://tabs.ultimate-guitar.com/t/the_weeknd/i_feel_it_coming_ver3_crd.htm\" onclick=\"window.trackCorrected('TAB')\">\n",
       " <b>I</b> <b>Feel</b> <b>It</b> <b>Coming</b> (ver 3)                                                                            </a>\n",
       " <div class=\"tabinfo link-tooltip \">\n",
       "                                         info\n",
       "                                         <div class=\"link-tooltip--text dark js-tooltip-content\">\n",
       "                                             Includes chords and lead melody for standard tuning and capo 3rd fret.                                        </div>\n",
       " </div>\n",
       " </div>\n",
       " <div class=\"dn\" id=\"info_1904390\">\n",
       " <font style=\"font-family:trebuchet ms;font-size:12px;font-weight:bold;line-height:120%\"><b><font color=\"#DDDDCC\">+</font> Difficulty:</b> <font color=\"#DDDDCC\">novice</font><br/></font>\n",
       " </div>\n",
       " </td>\n",
       " <td class=\"gray4 tresults--rating\">\n",
       " <span class=\"rating\" title=\"4.5\">\n",
       " <span class=\"icon-rating-sm icon-rating-sm__active\"></span>\n",
       " <span class=\"icon-rating-sm icon-rating-sm__active\"></span>\n",
       " <span class=\"icon-rating-sm icon-rating-sm__active\"></span>\n",
       " <span class=\"icon-rating-sm icon-rating-sm__active\"></span>\n",
       " <span class=\"icon-rating-sm icon-rating-sm__half\"></span>\n",
       " </span>\n",
       " <span>[ <b class=\"ratdig\">3</b> ]</span></td>\n",
       " <td><strong>chords</strong></td>\n",
       " </tr>\n",
       " <tr class=\"stripe \">\n",
       " <td> \n",
       "                             </td>\n",
       " <td class=\"search-version--td\">\n",
       " <div class=\"search-version--link js-tooltip\">\n",
       " <a class=\"song result-link js-search-spelling-link\" href=\"https://tabs.ultimate-guitar.com/t/the_weeknd/i_feel_it_coming_ver4_crd.htm\" onclick=\"window.trackCorrected('TAB')\">\n",
       " <b>I</b> <b>Feel</b> <b>It</b> <b>Coming</b> (ver 4)                                                                            </a>\n",
       " <div class=\"tabinfo link-tooltip \">\n",
       "                                         info\n",
       "                                         <div class=\"link-tooltip--text dark js-tooltip-content\">\n",
       "                                             By SMO99. Capo 1. These chords seemed to fit the song well to me.                                        </div>\n",
       " </div>\n",
       " </div>\n",
       " <div class=\"dn\" id=\"info_1934369\">\n",
       " <font style=\"font-family:trebuchet ms;font-size:12px;font-weight:bold;line-height:120%\"><b><font color=\"#DDDDCC\">+</font> Difficulty:</b> <font color=\"#DDDDCC\">novice</font><br/></font>\n",
       " </div>\n",
       " </td>\n",
       " <td class=\"gray4 tresults--rating\">\n",
       " <span class=\"rating\" title=\"4.5\">\n",
       " <span class=\"icon-rating-sm icon-rating-sm__active\"></span>\n",
       " <span class=\"icon-rating-sm icon-rating-sm__active\"></span>\n",
       " <span class=\"icon-rating-sm icon-rating-sm__active\"></span>\n",
       " <span class=\"icon-rating-sm icon-rating-sm__active\"></span>\n",
       " <span class=\"icon-rating-sm icon-rating-sm__half\"></span>\n",
       " </span>\n",
       " <span>[ <b class=\"ratdig\">6</b> ]</span></td>\n",
       " <td><strong>chords</strong></td>\n",
       " </tr>\n",
       " <tr class=\" \">\n",
       " <td> \n",
       "                             </td>\n",
       " <td class=\"search-version--td\">\n",
       " <div class=\"search-version--link js-tooltip\">\n",
       " <a class=\"song result-link js-search-spelling-link\" href=\"https://tabs.ultimate-guitar.com/t/the_weeknd/i_feel_it_coming_video_lesson.htm\" onclick=\"window.trackCorrected('TAB')\">\n",
       " <b>I</b> <b>Feel</b> <b>It</b> <b>Coming</b> </a>\n",
       " </div>\n",
       " <div class=\"dn\" id=\"info_1932789\">\n",
       " <font style=\"font-family:trebuchet ms;font-size:12px;font-weight:bold;line-height:120%\"><b><font color=\"#DDDDCC\">+</font> Difficulty:</b> <font color=\"#DDDDCC\">novice</font><br/></font>\n",
       " </div>\n",
       " </td>\n",
       " <td class=\"gray4 tresults--rating\"></td>\n",
       " <td><strong>video</strong></td>\n",
       " </tr>\n",
       " </table>]"
      ]
     },
     "execution_count": 72,
     "metadata": {},
     "output_type": "execute_result"
    }
   ],
   "source": [
    "search_link = 'https://www.ultimate-guitar.com/search.php?search_type=title&order=&value=I+feel+it+coming'\n",
    "search_soup = soup_page(search_link)\n",
    "tables = search_soup.find_all('table',{'class':'tresults'})\n",
    "tables"
   ]
  },
  {
   "cell_type": "code",
   "execution_count": null,
   "metadata": {
    "collapsed": true
   },
   "outputs": [],
   "source": []
  }
 ],
 "metadata": {
  "anaconda-cloud": {},
  "kernelspec": {
   "display_name": "Python [conda root]",
   "language": "python",
   "name": "conda-root-py"
  },
  "language_info": {
   "codemirror_mode": {
    "name": "ipython",
    "version": 3
   },
   "file_extension": ".py",
   "mimetype": "text/x-python",
   "name": "python",
   "nbconvert_exporter": "python",
   "pygments_lexer": "ipython3",
   "version": "3.5.2"
  }
 },
 "nbformat": 4,
 "nbformat_minor": 1
}
