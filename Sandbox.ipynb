{
 "cells": [
  {
   "cell_type": "code",
   "execution_count": 51,
   "metadata": {
    "collapsed": true
   },
   "outputs": [],
   "source": [
    "import bs4\n",
    "import requests"
   ]
  },
  {
   "cell_type": "code",
   "execution_count": 52,
   "metadata": {
    "collapsed": false
   },
   "outputs": [],
   "source": [
    "weekend = requests.get('https://www.ultimate-guitar.com/search.php?search_type=title&order=&value=I+feel+it+coming')\n",
    "weekend_soup = bs4.BeautifulSoup(weekend.content, 'html.parser')"
   ]
  },
  {
   "cell_type": "code",
   "execution_count": 63,
   "metadata": {
    "collapsed": false
   },
   "outputs": [],
   "source": [
    "def get_chords(web_url):\n",
    "    req = requests.get(web_url)\n",
    "    req_soup = bs4.BeautifulSoup(req.content, 'html.parser')\n",
    "    content = req_soup.find_all('pre', {'class':'js-tab-content'})\n",
    "    chords_list = [word.replace('<span>', '').replace('</span>', '') for word in str(content).split() if word[0:6] == '<span>']\n",
    "    return chords_list"
   ]
  },
  {
   "cell_type": "code",
   "execution_count": 64,
   "metadata": {
    "collapsed": false,
    "scrolled": true
   },
   "outputs": [
    {
     "data": {
      "text/plain": [
       "['Em',\n",
       " 'Am',\n",
       " 'F',\n",
       " 'C',\n",
       " 'Em',\n",
       " 'Am',\n",
       " 'F',\n",
       " 'C',\n",
       " 'Am7',\n",
       " 'Em7',\n",
       " 'F',\n",
       " 'C',\n",
       " 'Am7',\n",
       " 'Em7',\n",
       " 'F',\n",
       " 'C',\n",
       " 'Em7',\n",
       " 'Am7',\n",
       " 'F',\n",
       " 'C',\n",
       " 'Em7',\n",
       " 'Am7',\n",
       " 'F',\n",
       " 'C',\n",
       " 'Em',\n",
       " 'Am',\n",
       " 'F',\n",
       " 'C',\n",
       " 'Em',\n",
       " 'Am',\n",
       " 'F',\n",
       " 'C',\n",
       " 'Am7',\n",
       " 'Em7',\n",
       " 'F',\n",
       " 'C',\n",
       " 'Am7',\n",
       " 'Em7',\n",
       " 'F',\n",
       " 'C',\n",
       " 'Em7',\n",
       " 'Am',\n",
       " 'F',\n",
       " 'C',\n",
       " 'Em7',\n",
       " 'Am',\n",
       " 'F',\n",
       " 'C',\n",
       " 'Em7',\n",
       " 'Am',\n",
       " 'F',\n",
       " 'C',\n",
       " 'Em7',\n",
       " 'Am',\n",
       " 'F',\n",
       " 'C',\n",
       " 'Am7',\n",
       " 'Em7',\n",
       " 'F',\n",
       " 'C',\n",
       " 'Am7',\n",
       " 'Em7',\n",
       " 'F',\n",
       " 'C',\n",
       " 'Em7',\n",
       " 'Am7',\n",
       " 'F',\n",
       " 'C',\n",
       " 'Em7',\n",
       " 'Am7',\n",
       " 'F',\n",
       " 'C',\n",
       " 'Em7',\n",
       " 'Am',\n",
       " 'F',\n",
       " 'C',\n",
       " 'Em7',\n",
       " 'Am',\n",
       " 'F',\n",
       " 'C']"
      ]
     },
     "execution_count": 64,
     "metadata": {},
     "output_type": "execute_result"
    }
   ],
   "source": [
    "url = ('https://tabs.ultimate-guitar.com/t/the_weeknd/i_feel_it_coming_ver2_crd.htm')\n",
    "result = get_chords(url)\n",
    "result"
   ]
  },
  {
   "cell_type": "code",
   "execution_count": null,
   "metadata": {
    "collapsed": true
   },
   "outputs": [],
   "source": []
  }
 ],
 "metadata": {
  "anaconda-cloud": {},
  "kernelspec": {
   "display_name": "Python [conda root]",
   "language": "python",
   "name": "conda-root-py"
  },
  "language_info": {
   "codemirror_mode": {
    "name": "ipython",
    "version": 3
   },
   "file_extension": ".py",
   "mimetype": "text/x-python",
   "name": "python",
   "nbconvert_exporter": "python",
   "pygments_lexer": "ipython3",
   "version": "3.5.2"
  }
 },
 "nbformat": 4,
 "nbformat_minor": 1
}
