{
 "cells": [
  {
   "cell_type": "code",
   "execution_count": 51,
   "metadata": {
    "collapsed": true
   },
   "outputs": [],
   "source": [
    "import bs4\n",
    "import requests"
   ]
  },
  {
   "cell_type": "code",
   "execution_count": 151,
   "metadata": {
    "collapsed": false
   },
   "outputs": [],
   "source": [
    "weekend = requests.get('https://www.ultimate-guitar.com/search.php?search_type=title&order=&value=I+feel+it+coming')\n",
    "weekend_soup = bs4.BeautifulSoup(weekend.content, 'html.parser')"
   ]
  },
  {
   "cell_type": "code",
   "execution_count": 323,
   "metadata": {
    "collapsed": false
   },
   "outputs": [],
   "source": [
    "def soup_page(web_url):\n",
    "    req = requests.get(web_url)\n",
    "    req_soup = bs4.BeautifulSoup(req.content, 'html.parser')\n",
    "    return req_soup\n",
    "\n",
    "# This function scrapes chords from a ultimate guitar website and\n",
    "# returns a list of all the chords on that page\n",
    "def get_chords(web_url):\n",
    "    req_soup = soup_page(web_url)\n",
    "    content = req_soup.find_all('pre', {'class':'js-tab-content'})\n",
    "    chords_list = [word.replace('<span>', '').replace('</span>', '') for word in str(content).split() if word[0:6] == '<span>']\n",
    "    return chords_list\n",
    "\n",
    "def get_rating(row):\n",
    "    temp_rate = row.find('td', {'class':'gray4 tresults--rating'})\n",
    "    rate_list = temp_rate.find_all('b', {'class':'ratdig'})\n",
    "    if (len(rate_list) > 0):\n",
    "        rate = rate_list[0].text.strip()\n",
    "        return float(rate)\n",
    "\n",
    "def get_type(row):\n",
    "    row_type = row.find_all('strong')[0].text.strip()\n",
    "    return row_type\n",
    "\n",
    "def get_url(row):\n",
    "    search_version = row.find_all('td',{'class':'search-version--td'})[0]\n",
    "    href = search_version.find_all('a')[0].attrs['href']\n",
    "    return href"
   ]
  },
  {
   "cell_type": "code",
   "execution_count": 324,
   "metadata": {
    "collapsed": false
   },
   "outputs": [],
   "source": [
    "hello = 'https://www.ultimate-guitar.com/search.php?search_type=title&order=&value=hello+adele'\n",
    "feel_coming = 'https://www.ultimate-guitar.com/search.php?search_type=title&order=&value=i+feel+it+coming'\n",
    "search_soup = soup_page(hello)\n",
    "table = search_soup.find_all('table',{'class':'tresults'})[0]"
   ]
  },
  {
   "cell_type": "code",
   "execution_count": 325,
   "metadata": {
    "collapsed": false
   },
   "outputs": [],
   "source": [
    "rows = table.find_all('tr')[1:len(table)]"
   ]
  },
  {
   "cell_type": "code",
   "execution_count": 326,
   "metadata": {
    "collapsed": false
   },
   "outputs": [
    {
     "name": "stdout",
     "output_type": "stream",
     "text": [
      "516.0\n",
      "https://tabs.ultimate-guitar.com/a/adele/hello_crd.htm\n",
      "47.0\n",
      "https://tabs.ultimate-guitar.com/a/adele/hello_ver2_crd.htm\n",
      "1019.0\n",
      "https://tabs.ultimate-guitar.com/a/adele/hello_ver3_crd.htm\n",
      "148.0\n",
      "https://tabs.ultimate-guitar.com/a/adele/hello_acoustic_crd.htm\n",
      "None\n",
      "https://tabs.ultimate-guitar.com/m/misc/jzr_r_mnl_-_adele_x_lionel_richie_-_hello_crd.htm\n"
     ]
    }
   ],
   "source": [
    "for row in rows:\n",
    "    if get_type(row) == 'chords':\n",
    "        if (get_rating(row) != None):\n",
    "            print(get_url(row))\n"
   ]
  },
  {
   "cell_type": "code",
   "execution_count": null,
   "metadata": {
    "collapsed": true
   },
   "outputs": [],
   "source": []
  }
 ],
 "metadata": {
  "anaconda-cloud": {},
  "kernelspec": {
   "display_name": "Python [conda root]",
   "language": "python",
   "name": "conda-root-py"
  },
  "language_info": {
   "codemirror_mode": {
    "name": "ipython",
    "version": 3
   },
   "file_extension": ".py",
   "mimetype": "text/x-python",
   "name": "python",
   "nbconvert_exporter": "python",
   "pygments_lexer": "ipython3",
   "version": "3.5.2"
  }
 },
 "nbformat": 4,
 "nbformat_minor": 1
}
