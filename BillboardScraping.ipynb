{
 "cells": [
  {
   "cell_type": "code",
   "execution_count": null,
   "metadata": {
    "collapsed": false
   },
   "outputs": [],
   "source": [
    "import bs4\n",
    "import requests\n",
    "\n",
    "def get_year(year_input):\n",
    "    url = 'http://www.billboard.com/charts/year-end/'\n",
    "    url += str(year_input)\n",
    "    url += '/hot-100-songs'\n",
    "    return url\n",
    "\n",
    "def update_url():\n",
    "    billboard = requests.get(get_year(2016))\n",
    "    billboard_soup = bs4.BeautifulSoup(billboard.content, 'html.parser')\n",
    "    innerContent =  billboard_soup.find_all('div', {'data-content-type': 'yearEndChart'})\n",
    "    artistData = innerContent[0].find_all('div' , {'class': 'ye-chart__layout-row'})\n",
    "    artistData = artistData[1:]\n",
    "    return artistData\n",
    "\n",
    "pairs = list()\n",
    "top100Songs = list()\n",
    "def data(row):\n",
    "    p = list()\n",
    "    article = row.find_all('article', {'id': 'chart'})\n",
    "    for i in range(len(article)):\n",
    "        article_chart = article[i].find_all('div', {'class': 'ye-chart__item-primary'})\n",
    "        songTitle = article_chart[0].find_all('h1', {'class':'ye-chart__item-title'})[0].text.strip()\n",
    "        artistName = article_chart[0].find_all('h2', {'class':'ye-chart__item-subtitle'})[0].text.strip()\n",
    "        p.append((artistName, songTitle))\n",
    "    return p\n",
    "  \n",
    "pairs = [data(d) for d in update_url()]\n",
    "for p in pairs:\n",
    "    top100Songs += p\n",
    "top100Songs"
   ]
  },
  {
   "cell_type": "code",
   "execution_count": null,
   "metadata": {
    "collapsed": true
   },
   "outputs": [],
   "source": [
    "\n",
    "    "
   ]
  },
  {
   "cell_type": "code",
   "execution_count": null,
   "metadata": {
    "collapsed": true
   },
   "outputs": [],
   "source": []
  },
  {
   "cell_type": "code",
   "execution_count": null,
   "metadata": {
    "collapsed": false
   },
   "outputs": [],
   "source": []
  },
  {
   "cell_type": "code",
   "execution_count": null,
   "metadata": {
    "collapsed": false
   },
   "outputs": [],
   "source": []
  },
  {
   "cell_type": "code",
   "execution_count": null,
   "metadata": {
    "collapsed": false
   },
   "outputs": [],
   "source": []
  },
  {
   "cell_type": "raw",
   "metadata": {},
   "source": []
  },
  {
   "cell_type": "code",
   "execution_count": null,
   "metadata": {
    "collapsed": false
   },
   "outputs": [],
   "source": []
  },
  {
   "cell_type": "code",
   "execution_count": null,
   "metadata": {
    "collapsed": false
   },
   "outputs": [],
   "source": []
  },
  {
   "cell_type": "code",
   "execution_count": null,
   "metadata": {
    "collapsed": false
   },
   "outputs": [],
   "source": []
  },
  {
   "cell_type": "code",
   "execution_count": null,
   "metadata": {
    "collapsed": true
   },
   "outputs": [],
   "source": []
  }
 ],
 "metadata": {
  "anaconda-cloud": {},
  "kernelspec": {
   "display_name": "Python [conda root]",
   "language": "python",
   "name": "conda-root-py"
  },
  "language_info": {
   "codemirror_mode": {
    "name": "ipython",
    "version": 3
   },
   "file_extension": ".py",
   "mimetype": "text/x-python",
   "name": "python",
   "nbconvert_exporter": "python",
   "pygments_lexer": "ipython3",
   "version": "3.5.2"
  }
 },
 "nbformat": 4,
 "nbformat_minor": 1
}
