{
 "cells": [
  {
   "cell_type": "code",
   "execution_count": 51,
   "metadata": {
    "collapsed": true
   },
   "outputs": [],
   "source": [
    "import bs4\n",
    "import requests"
   ]
  },
  {
   "cell_type": "code",
   "execution_count": 151,
   "metadata": {
    "collapsed": false
   },
   "outputs": [],
   "source": [
    "weekend = requests.get('https://www.ultimate-guitar.com/search.php?search_type=title&order=&value=I+feel+it+coming')\n",
    "weekend_soup = bs4.BeautifulSoup(weekend.content, 'html.parser')"
   ]
  },
  {
   "cell_type": "code",
   "execution_count": 391,
   "metadata": {
    "collapsed": false
   },
   "outputs": [],
   "source": [
    "# Returns the Beautifulsoup of the input 'web_url'\n",
    "def soup_page(web_url):\n",
    "    req = requests.get(web_url)\n",
    "    req_soup = bs4.BeautifulSoup(req.content, 'html.parser')\n",
    "    return req_soup\n",
    "\n",
    "# This function scrapes chords from a ultimate guitar website and\n",
    "# returns a list of all the chords on that page\n",
    "def get_chords(web_url):\n",
    "    req_soup = soup_page(web_url)\n",
    "    content = req_soup.find_all('pre', {'class':'js-tab-content'})\n",
    "    chords_list = [word.replace('<span>', '').replace('</span>', '') for word in str(content).split() if word[0:6] == '<span>']\n",
    "    return chords_list\n",
    "\n",
    "# Returns the rating of a certain row in the ultimate guitar result page\n",
    "def get_rating(row):\n",
    "    temp_rate = row.find('td', {'class':'gray4 tresults--rating'})\n",
    "    rate_list = temp_rate.find_all('b', {'class':'ratdig'})\n",
    "    if (len(rate_list) > 0):\n",
    "        rate = rate_list[0].text.strip()\n",
    "        return float(rate)\n",
    "\n",
    "# Returns the type of a certain row in a result page\n",
    "def get_type(row):\n",
    "    row_type = row.find_all('strong')[0].text.strip()\n",
    "    return row_type\n",
    "\n",
    "# Return the url of a certain row (version) of chords in a result page\n",
    "def get_url(row):\n",
    "    search_version = row.find_all('td',{'class':'search-version--td'})[0]\n",
    "    href = search_version.find_all('a')[0].attrs['href']\n",
    "    return href\n",
    "\n",
    "# -- Puyush's functions --\n",
    "def get_bbd_year_url(year_input):\n",
    "    url = 'http://www.billboard.com/charts/year-end/'\n",
    "    url += str(year_input)\n",
    "    url += '/hot-100-songs'\n",
    "    return url\n",
    "\n",
    "def update_bbd_url(int_year):\n",
    "    billboard = requests.get(get_bbd_year_url(int_year))\n",
    "    billboard_soup = bs4.BeautifulSoup(billboard.content, 'html.parser')\n",
    "    innerContent =  billboard_soup.find_all('div', {'data-content-type': 'yearEndChart'})\n",
    "    artistData = innerContent[0].find_all('div' , {'class': 'ye-chart__layout-row'})\n",
    "    artistData = artistData[1:]\n",
    "    return artistData\n",
    "\n",
    "def data(row):\n",
    "    p = list()\n",
    "    article = row.find_all('article', {'id': 'chart'})\n",
    "    for i in range(len(article)):\n",
    "        article_chart = article[i].find_all('div', {'class': 'ye-chart__item-primary'})\n",
    "        songTitle = article_chart[0].find_all('h1', {'class':'ye-chart__item-title'})[0].text.strip()\n",
    "        artistName = article_chart[0].find_all('h2', {'class':'ye-chart__item-subtitle'})[0].text.strip()\n",
    "        p.append((artistName, songTitle))\n",
    "    return p\n",
    "# -- End of Puyush's functions --\n",
    "\n",
    "# Gets the top 100 songs from Billboard of the input year\n",
    "def get_top100(int_year):\n",
    "    pairs = list()\n",
    "    top100Songs = list()\n",
    "    pairs = [data(d) for d in update_bbd_url(int_year)]\n",
    "    for p in pairs:\n",
    "        top100Songs += p\n",
    "    return top100Songs\n",
    "\n",
    "# Converts the top 100 songs in a particular year into\n",
    "# a searchable string\n",
    "def get_top100_query(int_year):\n",
    "    top100 = get_top100(int_year)\n",
    "    result = [clean_name(pair[1])+' '+clean_name(pair[0]) for pair in top100]\n",
    "    return result\n",
    "\n",
    "# Clean up both artist name and song titles from get_top100() list\n",
    "def clean_name(str_input):\n",
    "    return str_input.lower().replace('(','').replace(')','').replace('featuring','').replace('&','')\n",
    "\n",
    "# Generates a search result page based on the input\n",
    "# The url can be both a list of different versions of chords\n",
    "# or \"No Result\" page\n",
    "def search_url(str_query):\n",
    "    root = 'https://www.ultimate-guitar.com/search.php?search_type=title&order=&value='\n",
    "    str_query = str_query.replace(' ', '+')\n",
    "    return root+str_query"
   ]
  },
  {
   "cell_type": "code",
   "execution_count": 392,
   "metadata": {
    "collapsed": false
   },
   "outputs": [],
   "source": [
    "feel_coming = 'https://www.ultimate-guitar.com/search.php?search_type=title&order=&value=i+feel+it+coming+the+weekend'\n",
    "search_soup = soup_page(feel_coming)\n",
    "table = search_soup.find_all('table',{'class':'tresults'})[0]"
   ]
  },
  {
   "cell_type": "code",
   "execution_count": 332,
   "metadata": {
    "collapsed": false
   },
   "outputs": [],
   "source": [
    "rows = table.find_all('tr')[1:len(table)]"
   ]
  },
  {
   "cell_type": "code",
   "execution_count": 334,
   "metadata": {
    "collapsed": false
   },
   "outputs": [
    {
     "name": "stdout",
     "output_type": "stream",
     "text": [
      "733.0 \t https://tabs.ultimate-guitar.com/j/justin_bieber/sorry_crd.htm\n",
      "27.0 \t https://tabs.ultimate-guitar.com/j/justin_bieber/sorry_ver2_crd.htm\n",
      "9.0 \t https://tabs.ultimate-guitar.com/j/justin_bieber/sorry_ver3_crd.htm\n"
     ]
    }
   ],
   "source": [
    "for row in rows:\n",
    "    if get_type(row) == 'chords':\n",
    "        if (get_rating(row) != None):\n",
    "            print(get_rating(row),\"\\t\", get_url(row))\n"
   ]
  }
 ],
 "metadata": {
  "anaconda-cloud": {},
  "kernelspec": {
   "display_name": "Python [conda root]",
   "language": "python",
   "name": "conda-root-py"
  },
  "language_info": {
   "codemirror_mode": {
    "name": "ipython",
    "version": 3
   },
   "file_extension": ".py",
   "mimetype": "text/x-python",
   "name": "python",
   "nbconvert_exporter": "python",
   "pygments_lexer": "ipython3",
   "version": "3.5.2"
  }
 },
 "nbformat": 4,
 "nbformat_minor": 1
}
