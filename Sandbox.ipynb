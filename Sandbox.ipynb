{
 "cells": [
  {
   "cell_type": "code",
   "execution_count": 51,
   "metadata": {
    "collapsed": true
   },
   "outputs": [],
   "source": [
    "import bs4\n",
    "import requests"
   ]
  },
  {
   "cell_type": "code",
   "execution_count": 151,
   "metadata": {
    "collapsed": false
   },
   "outputs": [],
   "source": [
    "weekend = requests.get('https://www.ultimate-guitar.com/search.php?search_type=title&order=&value=I+feel+it+coming')\n",
    "weekend_soup = bs4.BeautifulSoup(weekend.content, 'html.parser')"
   ]
  },
  {
   "cell_type": "code",
   "execution_count": 369,
   "metadata": {
    "collapsed": false
   },
   "outputs": [],
   "source": [
    "def soup_page(web_url):\n",
    "    req = requests.get(web_url)\n",
    "    req_soup = bs4.BeautifulSoup(req.content, 'html.parser')\n",
    "    return req_soup\n",
    "\n",
    "# This function scrapes chords from a ultimate guitar website and\n",
    "# returns a list of all the chords on that page\n",
    "def get_chords(web_url):\n",
    "    req_soup = soup_page(web_url)\n",
    "    content = req_soup.find_all('pre', {'class':'js-tab-content'})\n",
    "    chords_list = [word.replace('<span>', '').replace('</span>', '') for word in str(content).split() if word[0:6] == '<span>']\n",
    "    return chords_list\n",
    "\n",
    "def get_rating(row):\n",
    "    temp_rate = row.find('td', {'class':'gray4 tresults--rating'})\n",
    "    rate_list = temp_rate.find_all('b', {'class':'ratdig'})\n",
    "    if (len(rate_list) > 0):\n",
    "        rate = rate_list[0].text.strip()\n",
    "        return float(rate)\n",
    "\n",
    "def get_type(row):\n",
    "    row_type = row.find_all('strong')[0].text.strip()\n",
    "    return row_type\n",
    "\n",
    "# -- Puyush's functions --\n",
    "def get_url(row):\n",
    "    search_version = row.find_all('td',{'class':'search-version--td'})[0]\n",
    "    href = search_version.find_all('a')[0].attrs['href']\n",
    "    return href\n",
    "\n",
    "def get_bbd_year_url(year_input):\n",
    "    url = 'http://www.billboard.com/charts/year-end/'\n",
    "    url += str(year_input)\n",
    "    url += '/hot-100-songs'\n",
    "    return url\n",
    "\n",
    "def update_url(int_year):\n",
    "    billboard = requests.get(get_bbd_year_url(int_year))\n",
    "    billboard_soup = bs4.BeautifulSoup(billboard.content, 'html.parser')\n",
    "    innerContent =  billboard_soup.find_all('div', {'data-content-type': 'yearEndChart'})\n",
    "    artistData = innerContent[0].find_all('div' , {'class': 'ye-chart__layout-row'})\n",
    "    artistData = artistData[1:]\n",
    "    return artistData\n",
    "\n",
    "def data(row):\n",
    "    p = list()\n",
    "    article = row.find_all('article', {'id': 'chart'})\n",
    "    for i in range(len(article)):\n",
    "        article_chart = article[i].find_all('div', {'class': 'ye-chart__item-primary'})\n",
    "        songTitle = article_chart[0].find_all('h1', {'class':'ye-chart__item-title'})[0].text.strip()\n",
    "        artistName = article_chart[0].find_all('h2', {'class':'ye-chart__item-subtitle'})[0].text.strip()\n",
    "        p.append((artistName, songTitle))\n",
    "    return p\n",
    "\n",
    "def get_top100(int_year):\n",
    "    pairs = list()\n",
    "    top100Songs = list()\n",
    "    pairs = [data(d) for d in update_url(int_year)]\n",
    "    for p in pairs:\n",
    "        top100Songs += p\n",
    "    return top100Songs\n",
    "\n",
    "def get_top100_query(int_year):\n",
    "    top100 = get_top100(int_year)\n",
    "    result = [clean_name(pair[1])+' '+clean_name(pair[0]) for pair in top100]\n",
    "    return result\n",
    "\n",
    "def clean_name(str_input):\n",
    "    return str_input.lower().replace('(','').replace(')','').replace('featuring','').replace('&','')"
   ]
  },
  {
   "cell_type": "code",
   "execution_count": 331,
   "metadata": {
    "collapsed": false
   },
   "outputs": [],
   "source": [
    "hello = 'https://www.ultimate-guitar.com/search.php?search_type=title&order=&value=hello+adele'\n",
    "feel_coming = 'https://www.ultimate-guitar.com/search.php?search_type=title&order=&value=i+feel+it+coming'\n",
    "sorry = 'https://www.ultimate-guitar.com/search.php?search_type=title&order=&value=sorry+justin+bieber'\n",
    "search_soup = soup_page(sorry)\n",
    "table = search_soup.find_all('table',{'class':'tresults'})[0]"
   ]
  },
  {
   "cell_type": "code",
   "execution_count": 332,
   "metadata": {
    "collapsed": false
   },
   "outputs": [],
   "source": [
    "rows = table.find_all('tr')[1:len(table)]"
   ]
  },
  {
   "cell_type": "code",
   "execution_count": 334,
   "metadata": {
    "collapsed": false
   },
   "outputs": [
    {
     "name": "stdout",
     "output_type": "stream",
     "text": [
      "733.0 \t https://tabs.ultimate-guitar.com/j/justin_bieber/sorry_crd.htm\n",
      "27.0 \t https://tabs.ultimate-guitar.com/j/justin_bieber/sorry_ver2_crd.htm\n",
      "9.0 \t https://tabs.ultimate-guitar.com/j/justin_bieber/sorry_ver3_crd.htm\n"
     ]
    }
   ],
   "source": [
    "for row in rows:\n",
    "    if get_type(row) == 'chords':\n",
    "        if (get_rating(row) != None):\n",
    "            print(get_rating(row),\"\\t\", get_url(row))\n"
   ]
  },
  {
   "cell_type": "code",
   "execution_count": 370,
   "metadata": {
    "collapsed": false,
    "scrolled": false
   },
   "outputs": [
    {
     "data": {
      "text/plain": [
       "['love yourself justin bieber',\n",
       " 'sorry justin bieber',\n",
       " 'one dance drake  wizkid  kyla',\n",
       " 'work rihanna  drake',\n",
       " 'stressed out twenty one pilots',\n",
       " 'panda desiigner',\n",
       " 'hello adele',\n",
       " \"don't let me down the chainsmokers  daya\",\n",
       " \"can't stop the feeling! justin timberlake\",\n",
       " 'closer the chainsmokers  halsey',\n",
       " 'cheap thrills sia  sean paul',\n",
       " '7 years lukas graham',\n",
       " 'needed me rihanna',\n",
       " 'my house flo rida',\n",
       " 'i took a pill in ibiza mike posner',\n",
       " 'work from home fifth harmony  ty dolla $ign',\n",
       " 'this is what you came for calvin harris  rihanna',\n",
       " 'cake by the ocean dnce',\n",
       " 'me, myself  i g-eazy x bebe rexha',\n",
       " 'ride twenty one pilots',\n",
       " 'heathens twenty one pilots',\n",
       " 'pillowtalk zayn',\n",
       " 'stitches shawn mendes',\n",
       " 'hotline bling drake',\n",
       " 'cold water major lazer  justin bieber  mo',\n",
       " 'send my love to your new lover adele',\n",
       " 'roses the chainsmokers  rozes',\n",
       " 'treat you better shawn mendes',\n",
       " 'too good drake  rihanna',\n",
       " 'low life future  the weeknd',\n",
       " 'what do you mean? justin bieber',\n",
       " 'the hills the weeknd',\n",
       " 'just like fire p!nk',\n",
       " 'broccoli d.r.a.m.  lil yachty',\n",
       " \"don't bryson tiller\",\n",
       " 'dangerous woman ariana grande',\n",
       " 'jumpman drake  future',\n",
       " \"i hate u i love u gnash  olivia o'brien\",\n",
       " 'here alessia cara',\n",
       " 'same old love selena gomez',\n",
       " 'controlla drake',\n",
       " \"like i'm gonna lose you meghan trainor  john legend\",\n",
       " 'one call away charlie puth',\n",
       " 'let it go james bay',\n",
       " 'no meghan trainor',\n",
       " 'never forget you zara larsson  mnek',\n",
       " 'let me love you dj snake  justin bieber',\n",
       " \"don't mind kent jones\",\n",
       " 'h.o.l.y. florida georgia line',\n",
       " \"we don't talk anymore charlie puth  selena gomez\",\n",
       " 'into you ariana grande',\n",
       " 'gold kiiara',\n",
       " 'exchange bryson tiller',\n",
       " '679 fetty wap  remy boyz',\n",
       " 'oui jeremih',\n",
       " 'hands to myself selena gomez',\n",
       " '2 phones kevin gates',\n",
       " 'starboy the weeknd  daft punk',\n",
       " 'for free dj khaled  drake',\n",
       " 'never be like you flume  kai',\n",
       " 'in the night the weeknd',\n",
       " 'me too meghan trainor',\n",
       " \"ex's  oh's elle king\",\n",
       " 'die a happy man thomas rhett',\n",
       " 'white iverson post malone',\n",
       " 'close nick jonas  tove lo',\n",
       " 'unsteady x ambassadors',\n",
       " 'sucker for pain lil wayne, wi',\n",
       " 'down in the dm yo gotti  nicki minaj',\n",
       " 'luv tory lanez',\n",
       " 'sorry beyonce',\n",
       " \"can't feel my face the weeknd\",\n",
       " 'hymn for the weekend coldplay',\n",
       " 'say it tory lanez',\n",
       " 'antidote travis scott',\n",
       " 'lost boy ruth b',\n",
       " 'side to side ariana grande  nicki minaj',\n",
       " 'sit still, look pretty daya',\n",
       " 'wildest dreams taylor swift',\n",
       " 'middle dj snake  bipolar sunshine',\n",
       " 'on my mind ellie goulding',\n",
       " 'pop style drake  the throne',\n",
       " 'when we were young adele',\n",
       " 'hide away daya',\n",
       " 'lean on major lazer  dj snake  mo',\n",
       " 'i know what you did last summer shawn mendes  camila cabello',\n",
       " 'all the way up fat joe, rem',\n",
       " 'watch me silento',\n",
       " 'back to sleep chris brown',\n",
       " 'no limit usher  young thug',\n",
       " 'cut it o.t. genasis  young dolph',\n",
       " 'really really kevin gates',\n",
       " 'all in my head flex fifth harmony  fetty wap',\n",
       " 'starving hailee steinfeld  grey  zedd',\n",
       " 'adventure of a lifetime coldplay',\n",
       " 'humble and kind tim mcgraw',\n",
       " 'wicked future',\n",
       " 'tiimmy turner desiigner',\n",
       " 'see you again wiz khalifa  charlie puth',\n",
       " 'perfect one direction']"
      ]
     },
     "execution_count": 370,
     "metadata": {},
     "output_type": "execute_result"
    }
   ],
   "source": [
    "get_top100_query(2016)"
   ]
  },
  {
   "cell_type": "code",
   "execution_count": null,
   "metadata": {
    "collapsed": true
   },
   "outputs": [],
   "source": []
  }
 ],
 "metadata": {
  "anaconda-cloud": {},
  "kernelspec": {
   "display_name": "Python [conda root]",
   "language": "python",
   "name": "conda-root-py"
  },
  "language_info": {
   "codemirror_mode": {
    "name": "ipython",
    "version": 3
   },
   "file_extension": ".py",
   "mimetype": "text/x-python",
   "name": "python",
   "nbconvert_exporter": "python",
   "pygments_lexer": "ipython3",
   "version": "3.5.2"
  }
 },
 "nbformat": 4,
 "nbformat_minor": 1
}
